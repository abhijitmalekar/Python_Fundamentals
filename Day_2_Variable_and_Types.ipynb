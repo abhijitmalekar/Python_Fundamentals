{
 "cells": [
  {
   "cell_type": "code",
   "execution_count": 1,
   "id": "64e1a3b1-5860-49bb-acf9-7d3e516ee23e",
   "metadata": {},
   "outputs": [
    {
     "name": "stdout",
     "output_type": "stream",
     "text": [
      "5\n"
     ]
    }
   ],
   "source": [
    "# Variable\n",
    "x = 2\n",
    "y = 3\n",
    "z = x + y\n",
    "print(z)"
   ]
  },
  {
   "cell_type": "code",
   "execution_count": 3,
   "id": "c38b4631-da1f-4bd1-8493-9993df44c9b7",
   "metadata": {},
   "outputs": [
    {
     "name": "stdout",
     "output_type": "stream",
     "text": [
      "Abhijit\n",
      "<class 'str'>\n",
      "Malekar\n",
      "<class 'str'>\n",
      "25\n",
      "<class 'int'>\n"
     ]
    }
   ],
   "source": [
    "first_name = \"Abhijit\"\n",
    "last_name = \"Malekar\"\n",
    "age = 25\n",
    "\n",
    "print(first_name)\n",
    "print(type(first_name))\n",
    "\n",
    "print(last_name)\n",
    "print(type(last_name))\n",
    "\n",
    "print(age)\n",
    "print(type(age))"
   ]
  },
  {
   "cell_type": "code",
   "execution_count": 7,
   "id": "88e749b6-ca7d-4d08-b93b-81ed9018c7da",
   "metadata": {},
   "outputs": [
    {
     "name": "stdout",
     "output_type": "stream",
     "text": [
      "Abhijit Malekar\n",
      "ABHIJIT MALEKAR\n",
      "abhijit malekar\n",
      "abhijit malekar\n"
     ]
    }
   ],
   "source": [
    "full_name = 'abhijit malekar'\n",
    "print(full_name.title())\n",
    "print(full_name.upper())\n",
    "print(full_name.lower())\n",
    "print(full_name)"
   ]
  },
  {
   "cell_type": "code",
   "execution_count": null,
   "id": "440b33ef-a628-45a1-b237-6218e2f29360",
   "metadata": {},
   "outputs": [],
   "source": []
  }
 ],
 "metadata": {
  "kernelspec": {
   "display_name": "Python 3 (ipykernel)",
   "language": "python",
   "name": "python3"
  },
  "language_info": {
   "codemirror_mode": {
    "name": "ipython",
    "version": 3
   },
   "file_extension": ".py",
   "mimetype": "text/x-python",
   "name": "python",
   "nbconvert_exporter": "python",
   "pygments_lexer": "ipython3",
   "version": "3.13.2"
  }
 },
 "nbformat": 4,
 "nbformat_minor": 5
}
