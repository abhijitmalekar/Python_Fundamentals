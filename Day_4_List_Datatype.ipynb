{
 "cells": [
  {
   "cell_type": "code",
   "execution_count": 1,
   "id": "faa9c9a6-b7eb-4f4a-bcbe-05110fbec379",
   "metadata": {},
   "outputs": [
    {
     "name": "stdout",
     "output_type": "stream",
     "text": [
      "['ron', 'harry', 'virat', 'rohit']\n"
     ]
    }
   ],
   "source": [
    "list_1 = ['ron', 'harry', 'virat', 'rohit']\n",
    "print(list_1)"
   ]
  },
  {
   "cell_type": "code",
   "execution_count": 2,
   "id": "7d656331-1e4b-4a22-9556-76698a13343f",
   "metadata": {},
   "outputs": [
    {
     "name": "stdout",
     "output_type": "stream",
     "text": [
      "Virat\n"
     ]
    }
   ],
   "source": [
    "# Printing the object which is at perticular index position say 2\n",
    "print(list_1[2].title())"
   ]
  },
  {
   "cell_type": "code",
   "execution_count": 3,
   "id": "ddcae311-41d6-458c-8ae2-c461e66c01a7",
   "metadata": {},
   "outputs": [
    {
     "name": "stdout",
     "output_type": "stream",
     "text": [
      "['ron', 'harry', 'virat', 'rohit', 'mahi']\n"
     ]
    }
   ],
   "source": [
    "# Adding\n",
    "list_1.append('mahi')\n",
    "print(list_1)"
   ]
  },
  {
   "cell_type": "code",
   "execution_count": 5,
   "id": "59016619-b889-497b-b0e4-d47b622aabb7",
   "metadata": {},
   "outputs": [
    {
     "name": "stdout",
     "output_type": "stream",
     "text": [
      "['ron', 'harry', 'virat', 'rohit']\n"
     ]
    }
   ],
   "source": [
    "del list_1[4]\n",
    "print(list_1)"
   ]
  },
  {
   "cell_type": "code",
   "execution_count": 6,
   "id": "63ecac7f-e119-4ed6-ba80-ef276cf0a2e5",
   "metadata": {},
   "outputs": [
    {
     "name": "stdout",
     "output_type": "stream",
     "text": [
      "['ron', 'harry', 'mahi', 'virat', 'rohit']\n"
     ]
    }
   ],
   "source": [
    "list_1.insert(2, 'mahi')\n",
    "print(list_1)"
   ]
  },
  {
   "cell_type": "code",
   "execution_count": null,
   "id": "10032bd4-57bd-40b0-8d8f-d44980556617",
   "metadata": {},
   "outputs": [],
   "source": []
  }
 ],
 "metadata": {
  "kernelspec": {
   "display_name": "Python 3 (ipykernel)",
   "language": "python",
   "name": "python3"
  },
  "language_info": {
   "codemirror_mode": {
    "name": "ipython",
    "version": 3
   },
   "file_extension": ".py",
   "mimetype": "text/x-python",
   "name": "python",
   "nbconvert_exporter": "python",
   "pygments_lexer": "ipython3",
   "version": "3.13.2"
  }
 },
 "nbformat": 4,
 "nbformat_minor": 5
}
