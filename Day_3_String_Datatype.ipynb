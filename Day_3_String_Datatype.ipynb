{
 "cells": [
  {
   "cell_type": "code",
   "execution_count": 2,
   "id": "d36bb1d7-070d-40ab-9c4d-44b20f0ba65d",
   "metadata": {},
   "outputs": [
    {
     "name": "stdout",
     "output_type": "stream",
     "text": [
      "abhijit malekar\n",
      "Abhijit Malekar\n",
      "ABHIJIT MALEKAR\n",
      "abhijit malekar\n"
     ]
    }
   ],
   "source": [
    "# Formatting\n",
    "first_name = 'abhijit'\n",
    "last_name = 'malekar'\n",
    "full_name = f\"{first_name} {last_name}\"\n",
    "print(full_name)\n",
    "print(full_name.title())\n",
    "print(full_name.upper())\n",
    "print(full_name.lower())"
   ]
  },
  {
   "cell_type": "code",
   "execution_count": 3,
   "id": "9e52163f-43be-4696-82cc-f5920b6c0cb8",
   "metadata": {},
   "outputs": [
    {
     "name": "stdout",
     "output_type": "stream",
     "text": [
      "Python\n"
     ]
    }
   ],
   "source": [
    "wide_spaces = 'Python '\n",
    "print(wide_spaces.rstrip())"
   ]
  },
  {
   "cell_type": "code",
   "execution_count": 4,
   "id": "005bfc83-d75d-49f7-ad72-50102acdae85",
   "metadata": {},
   "outputs": [
    {
     "name": "stdout",
     "output_type": "stream",
     "text": [
      "Python\n"
     ]
    }
   ],
   "source": [
    "wide_spaces = ' Python'\n",
    "print(wide_spaces.lstrip())"
   ]
  },
  {
   "cell_type": "code",
   "execution_count": 5,
   "id": "b8d0dcbf-219e-416a-bfd5-5125e92fe49d",
   "metadata": {},
   "outputs": [
    {
     "name": "stdout",
     "output_type": "stream",
     "text": [
      "Python\n"
     ]
    }
   ],
   "source": [
    "wide_spaces = ' Python '\n",
    "print(wide_spaces.strip())"
   ]
  },
  {
   "cell_type": "code",
   "execution_count": 7,
   "id": "e92bc74b-592b-416f-9d0c-0c481ba5f691",
   "metadata": {
    "scrolled": true
   },
   "outputs": [
    {
     "name": "stdout",
     "output_type": "stream",
     "text": [
      "python\n",
      "c\n",
      "c++\n",
      "java\n",
      "swift\n"
     ]
    }
   ],
   "source": [
    "fev_lang = \"python\\nc\\nc++\\njava\\nswift\"   # use \\n to print each word at next line\n",
    "print(fev_lang)"
   ]
  },
  {
   "cell_type": "code",
   "execution_count": null,
   "id": "69abc3f4-e6f7-40d6-b6f6-17d6908911ff",
   "metadata": {},
   "outputs": [],
   "source": [
    "fev_lang = \"python\\nc\\nc++\\njava\\nswift\"   # use \\t to print each word at next line\n",
    "print(fev_lang)"
   ]
  }
 ],
 "metadata": {
  "kernelspec": {
   "display_name": "Python 3 (ipykernel)",
   "language": "python",
   "name": "python3"
  },
  "language_info": {
   "codemirror_mode": {
    "name": "ipython",
    "version": 3
   },
   "file_extension": ".py",
   "mimetype": "text/x-python",
   "name": "python",
   "nbconvert_exporter": "python",
   "pygments_lexer": "ipython3",
   "version": "3.13.2"
  }
 },
 "nbformat": 4,
 "nbformat_minor": 5
}
