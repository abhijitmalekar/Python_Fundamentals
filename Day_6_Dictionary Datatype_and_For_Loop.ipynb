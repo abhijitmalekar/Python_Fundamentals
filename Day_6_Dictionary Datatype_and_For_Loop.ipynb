{
 "cells": [
  {
   "cell_type": "markdown",
   "id": "ef128027-5f13-43aa-bc6d-e315f0368872",
   "metadata": {},
   "source": [
    "# Dictionary Datatype"
   ]
  },
  {
   "cell_type": "code",
   "execution_count": 1,
   "id": "4d85b251-6612-4f37-8705-bb5efa3aef23",
   "metadata": {},
   "outputs": [
    {
     "name": "stdout",
     "output_type": "stream",
     "text": [
      "{'name': 'harry', 'address': 'street no. 11', 'school': 'st. bruters'}\n"
     ]
    }
   ],
   "source": [
    "user = {'name' : 'harry', 'address' : 'street no. 11', 'school' : 'st. bruters'}\n",
    "print(user)"
   ]
  },
  {
   "cell_type": "code",
   "execution_count": 2,
   "id": "2341e361-a2dd-4c20-bf6f-8b65795fb2a4",
   "metadata": {},
   "outputs": [
    {
     "name": "stdout",
     "output_type": "stream",
     "text": [
      "{'name': 'harry', 'address': 'street no. 11', 'school': 'hogwarts'}\n"
     ]
    }
   ],
   "source": [
    "user['school'] = 'hogwarts'\n",
    "print(user)"
   ]
  },
  {
   "cell_type": "code",
   "execution_count": 7,
   "id": "bbcef63f-dc7c-482a-82cc-8d8f3acf327e",
   "metadata": {},
   "outputs": [
    {
     "name": "stdout",
     "output_type": "stream",
     "text": [
      "Harry\n"
     ]
    }
   ],
   "source": [
    "print(user['name'].title())"
   ]
  },
  {
   "cell_type": "code",
   "execution_count": 8,
   "id": "ec7c0538-e474-4f6b-8ca1-701630c7ed62",
   "metadata": {},
   "outputs": [
    {
     "name": "stdout",
     "output_type": "stream",
     "text": [
      "<class 'dict'>\n"
     ]
    }
   ],
   "source": [
    "print(type(user))"
   ]
  },
  {
   "cell_type": "code",
   "execution_count": 9,
   "id": "a84725a7-d2f9-47f8-9c06-8b458ef7b684",
   "metadata": {},
   "outputs": [
    {
     "name": "stdout",
     "output_type": "stream",
     "text": [
      "dict_keys(['name', 'address', 'school'])\n"
     ]
    }
   ],
   "source": [
    "print(user.keys())"
   ]
  },
  {
   "cell_type": "code",
   "execution_count": 10,
   "id": "7928b5ca-af47-442e-a487-fe25eba26b4b",
   "metadata": {},
   "outputs": [
    {
     "name": "stdout",
     "output_type": "stream",
     "text": [
      "dict_values(['harry', 'street no. 11', 'hogwarts'])\n"
     ]
    }
   ],
   "source": [
    "print(user.values())"
   ]
  },
  {
   "cell_type": "code",
   "execution_count": 13,
   "id": "4328d8a6-5e20-4826-b049-c57af268f675",
   "metadata": {},
   "outputs": [
    {
     "name": "stdout",
     "output_type": "stream",
     "text": [
      "{'name': 'harry', 'address': 'street no. 11'}\n"
     ]
    }
   ],
   "source": [
    "del user['school']\n",
    "print(user)"
   ]
  },
  {
   "cell_type": "markdown",
   "id": "5cd6c245-6953-4e9a-af6c-7288210bec0c",
   "metadata": {},
   "source": [
    "# For Loop"
   ]
  },
  {
   "cell_type": "code",
   "execution_count": 15,
   "id": "625d88cd-744e-4443-9b37-619939b413af",
   "metadata": {},
   "outputs": [
    {
     "name": "stdout",
     "output_type": "stream",
     "text": [
      "Hello  harry\n",
      "Hello  street no. 11\n",
      "Hello  hogwarts\n"
     ]
    }
   ],
   "source": [
    "user = ['harry', 'street no. 11', 'hogwarts']\n",
    "\n",
    "for i in user:\n",
    "    print(\"Hello \",i)"
   ]
  },
  {
   "cell_type": "code",
   "execution_count": 17,
   "id": "87080f90-63ba-4207-8d23-77f656319a52",
   "metadata": {},
   "outputs": [
    {
     "name": "stdout",
     "output_type": "stream",
     "text": [
      "name\n",
      "address\n",
      "school\n"
     ]
    }
   ],
   "source": [
    "user = {'name' : 'harry', 'address' : 'street no. 11', 'school' : 'st. bruters'}\n",
    "for a in user.keys():\n",
    "    print(a)"
   ]
  },
  {
   "cell_type": "code",
   "execution_count": 18,
   "id": "20631f15-0927-48ef-93e1-3966c972e12b",
   "metadata": {},
   "outputs": [
    {
     "name": "stdout",
     "output_type": "stream",
     "text": [
      "harry\n",
      "street no. 11\n",
      "st. bruters\n"
     ]
    }
   ],
   "source": [
    "for b in user.values():\n",
    "    print(b)"
   ]
  },
  {
   "cell_type": "code",
   "execution_count": null,
   "id": "a42459d2-7966-46d3-b47b-666742cd0cc8",
   "metadata": {},
   "outputs": [],
   "source": []
  }
 ],
 "metadata": {
  "kernelspec": {
   "display_name": "Python 3 (ipykernel)",
   "language": "python",
   "name": "python3"
  },
  "language_info": {
   "codemirror_mode": {
    "name": "ipython",
    "version": 3
   },
   "file_extension": ".py",
   "mimetype": "text/x-python",
   "name": "python",
   "nbconvert_exporter": "python",
   "pygments_lexer": "ipython3",
   "version": "3.13.2"
  }
 },
 "nbformat": 4,
 "nbformat_minor": 5
}
